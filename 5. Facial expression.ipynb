{
 "cells": [
  {
   "cell_type": "code",
   "execution_count": null,
   "id": "f4032202",
   "metadata": {},
   "outputs": [],
   "source": [
    "import pandas as pd\n",
    "import numpy as np\n",
    "import os\n",
    "\n",
    "import matplotlib.pyplot as plt\n",
    "import seaborn as sns\n",
    "\n",
    "import tensorflow as tf\n",
    "import keras"
   ]
  },
  {
   "cell_type": "code",
   "execution_count": null,
   "id": "cf963880",
   "metadata": {},
   "outputs": [],
   "source": [
    "import os\n",
    "for dirname, _, filenames in os.walk('/kaggle/input'):\n",
    "    for filename in filenames:\n",
    "        print(os.path.join(dirname, filename))"
   ]
  },
  {
   "cell_type": "code",
   "execution_count": null,
   "id": "abca2b93",
   "metadata": {},
   "outputs": [],
   "source": [
    "train_dir = 'fer2013/train/'\n",
    "test_dir = 'fer2013/test/'"
   ]
  },
  {
   "cell_type": "code",
   "execution_count": null,
   "id": "4937df6e",
   "metadata": {},
   "outputs": [],
   "source": [
    "row=48\n",
    "col=48\n",
    "classes = 7"
   ]
  },
  {
   "cell_type": "code",
   "execution_count": null,
   "id": "e57a3c62",
   "metadata": {},
   "outputs": [],
   "source": [
    "def count_expression(path,set_):\n",
    "    dict_={}\n",
    "    for expression in os.listdir(path):\n",
    "        dir_ = path + expression\n",
    "        dict_[expression]=len(os.listdir(dir_))\n",
    "\n",
    "    df = pd.DataFrame(dict_,index=[set_])\n",
    "    return df"
   ]
  },
  {
   "cell_type": "code",
   "execution_count": null,
   "id": "6792db6e",
   "metadata": {
    "scrolled": true
   },
   "outputs": [],
   "source": [
    "train_count=count_expression(train_dir,'train_count')\n",
    "print(train_count)"
   ]
  },
  {
   "cell_type": "code",
   "execution_count": null,
   "id": "0dc0b4b7",
   "metadata": {},
   "outputs": [],
   "source": [
    "test_count=count_expression(test_dir,'test')\n",
    "print(test_count)"
   ]
  },
  {
   "cell_type": "code",
   "execution_count": null,
   "id": "c5455eca",
   "metadata": {},
   "outputs": [],
   "source": [
    "train_count.transpose().plot(kind = \"bar\")\n",
    "plt.title('Plot of number of images in train dataset')"
   ]
  },
  {
   "cell_type": "code",
   "execution_count": null,
   "id": "d61d2cc2",
   "metadata": {},
   "outputs": [],
   "source": [
    "test_count.transpose().plot(kind = \"bar\")\n",
    "plt.title('Plot of number of images in test dataset')"
   ]
  },
  {
   "cell_type": "code",
   "execution_count": null,
   "id": "222e418f",
   "metadata": {},
   "outputs": [],
   "source": [
    "plt.figure(figsize=(14,22))\n",
    "i = 1\n",
    "for expression in os.listdir(train_dir):\n",
    "    img = keras.preprocessing.image.load_img((train_dir + expression +'/'+ os.listdir(train_dir + expression)[1]))\n",
    "    plt.subplot(1,7,i)\n",
    "    plt.imshow(img)\n",
    "    plt.title(expression)\n",
    "    plt.axis('off')\n",
    "    i += 1\n",
    "plt.show()"
   ]
  },
  {
   "cell_type": "code",
   "execution_count": null,
   "id": "e9b0aab2",
   "metadata": {},
   "outputs": [],
   "source": [
    "from keras.preprocessing.image import ImageDataGenerator\n",
    "from keras.layers import Conv2D,Dense, MaxPooling2D,Flatten,Dropout,Activation, BatchNormalization\n",
    "from tensorflow.keras.optimizers import Adam,RMSprop,SGD\n",
    "from keras import regularizers\n",
    "from keras.callbacks import ModelCheckpoint, CSVLogger,TensorBoard,EarlyStopping,ReduceLROnPlateau\n",
    "import datetime\n",
    "from tensorflow.keras.utils import plot_model"
   ]
  },
  {
   "cell_type": "code",
   "execution_count": null,
   "id": "5b8fdb0f",
   "metadata": {},
   "outputs": [],
   "source": [
    "train_datagen = ImageDataGenerator(rescale=1./255,\n",
    "                                    zoom_range=0.3, \n",
    "                                    horizontal_flip=True)\n",
    "\n",
    "\n",
    "train_set=train_datagen.flow_from_directory(train_dir,\n",
    "                                            batch_size=64,\n",
    "                                            target_size=(48,48),\n",
    "                                            shuffle=True,\n",
    "                                            color_mode=\"grayscale\",class_mode='categorical')\n",
    "\n",
    "\n",
    "\n",
    "test_datagen = ImageDataGenerator(rescale=1./255)\n",
    "test_set = test_datagen.flow_from_directory(test_dir,\n",
    "                                            batch_size=64,\n",
    "                                            target_size=(48,48),\n",
    "                                            shuffle=True,\n",
    "                                            color_mode=\"grayscale\",class_mode='categorical')"
   ]
  },
  {
   "cell_type": "code",
   "execution_count": 13,
   "id": "4c69c883",
   "metadata": {},
   "outputs": [
    {
     "data": {
      "text/plain": [
       "{'angry': 0,\n",
       " 'disgust': 1,\n",
       " 'fear': 2,\n",
       " 'happy': 3,\n",
       " 'neutral': 4,\n",
       " 'sad': 5,\n",
       " 'surprise': 6}"
      ]
     },
     "execution_count": 13,
     "metadata": {},
     "output_type": "execute_result"
    }
   ],
   "source": [
    "train_set.class_indices"
   ]
  },
  {
   "cell_type": "code",
   "execution_count": 14,
   "id": "62aedb30",
   "metadata": {},
   "outputs": [],
   "source": [
    "def get_model(input_size, classes=7):\n",
    "     #BUILDING the CNN\n",
    "    model = tf.keras.models.Sequential()   \n",
    "\n",
    "    model.add(Conv2D(32, kernel_size=(3, 3), padding='same', activation='relu', input_shape =input_size))\n",
    "    model.add(Conv2D(64, kernel_size=(3, 3), activation='relu', padding='same'))\n",
    "    model.add(BatchNormalization())\n",
    "    model.add(MaxPooling2D(2, 2))\n",
    "    model.add(Dropout(0.25))\n",
    "\n",
    "    model.add(Conv2D(128, kernel_size=(3, 3), activation='relu', padding='same', kernel_regularizer=regularizers.l2(0.01)))\n",
    "    model.add(Conv2D(256, kernel_size=(3, 3), activation='relu', kernel_regularizer=regularizers.l2(0.01)))\n",
    "    model.add(BatchNormalization())\n",
    "    model.add(MaxPooling2D(pool_size=(2, 2)))\n",
    "    model.add(Dropout(0.25))\n",
    "\n",
    "    model.add(Flatten())\n",
    "    model.add(Dense(1024, activation='relu'))\n",
    "    model.add(Dropout(0.5))\n",
    "    \n",
    "    model.add(Dense(classes, activation='softmax'))\n",
    "\n",
    "    #COMPLILING the CNN\n",
    "    model.compile(optimizer=Adam(learning_rate=0.0001, decay=1e-6), \n",
    "                  loss='categorical_crossentropy', \n",
    "                  metrics=['accuracy'])\n",
    "    return model"
   ]
  },
  {
   "cell_type": "code",
   "execution_count": 19,
   "id": "6cdcd105",
   "metadata": {},
   "outputs": [
    {
     "name": "stdout",
     "output_type": "stream",
     "text": [
      "Model: \"sequential_1\"\n",
      "_________________________________________________________________\n",
      " Layer (type)                Output Shape              Param #   \n",
      "=================================================================\n",
      " conv2d_4 (Conv2D)           (None, 48, 48, 32)        320       \n",
      "                                                                 \n",
      " conv2d_5 (Conv2D)           (None, 48, 48, 64)        18496     \n",
      "                                                                 \n",
      " batch_normalization_2 (Batc  (None, 48, 48, 64)       256       \n",
      " hNormalization)                                                 \n",
      "                                                                 \n",
      " max_pooling2d_2 (MaxPooling  (None, 24, 24, 64)       0         \n",
      " 2D)                                                             \n",
      "                                                                 \n",
      " dropout_3 (Dropout)         (None, 24, 24, 64)        0         \n",
      "                                                                 \n",
      " conv2d_6 (Conv2D)           (None, 24, 24, 128)       73856     \n",
      "                                                                 \n",
      " conv2d_7 (Conv2D)           (None, 22, 22, 256)       295168    \n",
      "                                                                 \n",
      " batch_normalization_3 (Batc  (None, 22, 22, 256)      1024      \n",
      " hNormalization)                                                 \n",
      "                                                                 \n",
      " max_pooling2d_3 (MaxPooling  (None, 11, 11, 256)      0         \n",
      " 2D)                                                             \n",
      "                                                                 \n",
      " dropout_4 (Dropout)         (None, 11, 11, 256)       0         \n",
      "                                                                 \n",
      " flatten_1 (Flatten)         (None, 30976)             0         \n",
      "                                                                 \n",
      " dense_2 (Dense)             (None, 1024)              31720448  \n",
      "                                                                 \n",
      " dropout_5 (Dropout)         (None, 1024)              0         \n",
      "                                                                 \n",
      " dense_3 (Dense)             (None, 7)                 7175      \n",
      "                                                                 \n",
      "=================================================================\n",
      "Total params: 32,116,743\n",
      "Trainable params: 32,116,103\n",
      "Non-trainable params: 640\n",
      "_________________________________________________________________\n"
     ]
    }
   ],
   "source": [
    "our_model = get_model((row,col,1),classes)\n",
    "our_model.summary()\n"
   ]
  },
  {
   "cell_type": "code",
   "execution_count": 20,
   "id": "07748ca2",
   "metadata": {},
   "outputs": [
    {
     "name": "stdout",
     "output_type": "stream",
     "text": [
      "Epoch 1/50\n",
      "448/448 - 722s - loss: 4.2765 - accuracy: 0.2818 - val_loss: 5.4195 - val_accuracy: 0.2839 - 722s/epoch - 2s/step\n",
      "Epoch 2/50\n",
      "448/448 - 736s - loss: 3.4858 - accuracy: 0.3379 - val_loss: 3.1007 - val_accuracy: 0.4030 - 736s/epoch - 2s/step\n",
      "Epoch 3/50\n",
      "448/448 - 814s - loss: 2.9512 - accuracy: 0.3696 - val_loss: 2.6465 - val_accuracy: 0.4152 - 814s/epoch - 2s/step\n",
      "Epoch 4/50\n",
      "448/448 - 1109s - loss: 2.5335 - accuracy: 0.3973 - val_loss: 2.2883 - val_accuracy: 0.4343 - 1109s/epoch - 2s/step\n",
      "Epoch 5/50\n",
      "448/448 - 730s - loss: 2.2112 - accuracy: 0.4272 - val_loss: 1.9825 - val_accuracy: 0.4770 - 730s/epoch - 2s/step\n",
      "Epoch 6/50\n",
      "448/448 - 749s - loss: 1.9739 - accuracy: 0.4427 - val_loss: 1.7699 - val_accuracy: 0.5007 - 749s/epoch - 2s/step\n",
      "Epoch 7/50\n",
      "448/448 - 743s - loss: 1.7901 - accuracy: 0.4671 - val_loss: 1.6231 - val_accuracy: 0.5140 - 743s/epoch - 2s/step\n",
      "Epoch 8/50\n",
      "448/448 - 630s - loss: 1.6528 - accuracy: 0.4887 - val_loss: 1.5444 - val_accuracy: 0.5067 - 630s/epoch - 1s/step\n",
      "Epoch 9/50\n",
      "448/448 - 491s - loss: 1.5475 - accuracy: 0.5047 - val_loss: 1.4106 - val_accuracy: 0.5485 - 491s/epoch - 1s/step\n",
      "Epoch 10/50\n",
      "448/448 - 450s - loss: 1.4534 - accuracy: 0.5183 - val_loss: 1.4397 - val_accuracy: 0.5173 - 450s/epoch - 1s/step\n",
      "Epoch 11/50\n",
      "448/448 - 432s - loss: 1.3903 - accuracy: 0.5340 - val_loss: 1.3139 - val_accuracy: 0.5607 - 432s/epoch - 965ms/step\n",
      "Epoch 12/50\n",
      "448/448 - 445s - loss: 1.3339 - accuracy: 0.5525 - val_loss: 1.2973 - val_accuracy: 0.5633 - 445s/epoch - 994ms/step\n",
      "Epoch 13/50\n",
      "448/448 - 461s - loss: 1.2889 - accuracy: 0.5637 - val_loss: 1.2243 - val_accuracy: 0.5824 - 461s/epoch - 1s/step\n",
      "Epoch 14/50\n",
      "448/448 - 462s - loss: 1.2408 - accuracy: 0.5799 - val_loss: 1.2050 - val_accuracy: 0.5891 - 462s/epoch - 1s/step\n",
      "Epoch 15/50\n",
      "448/448 - 540s - loss: 1.2004 - accuracy: 0.5903 - val_loss: 1.1691 - val_accuracy: 0.5984 - 540s/epoch - 1s/step\n",
      "Epoch 16/50\n",
      "448/448 - 489s - loss: 1.1664 - accuracy: 0.6017 - val_loss: 1.1594 - val_accuracy: 0.6038 - 489s/epoch - 1s/step\n",
      "Epoch 17/50\n",
      "448/448 - 1349s - loss: 1.1380 - accuracy: 0.6119 - val_loss: 1.1386 - val_accuracy: 0.6106 - 1349s/epoch - 3s/step\n",
      "Epoch 18/50\n",
      "448/448 - 491s - loss: 1.1148 - accuracy: 0.6190 - val_loss: 1.1331 - val_accuracy: 0.6083 - 491s/epoch - 1s/step\n",
      "Epoch 19/50\n",
      "448/448 - 574s - loss: 1.0916 - accuracy: 0.6276 - val_loss: 1.1202 - val_accuracy: 0.6152 - 574s/epoch - 1s/step\n",
      "Epoch 20/50\n",
      "448/448 - 610s - loss: 1.0571 - accuracy: 0.6383 - val_loss: 1.1020 - val_accuracy: 0.6211 - 610s/epoch - 1s/step\n",
      "Epoch 21/50\n",
      "448/448 - 725s - loss: 1.0344 - accuracy: 0.6478 - val_loss: 1.1274 - val_accuracy: 0.6140 - 725s/epoch - 2s/step\n",
      "Epoch 22/50\n",
      "448/448 - 740s - loss: 1.0126 - accuracy: 0.6546 - val_loss: 1.1211 - val_accuracy: 0.6240 - 740s/epoch - 2s/step\n",
      "Epoch 23/50\n",
      "448/448 - 734s - loss: 0.9904 - accuracy: 0.6647 - val_loss: 1.1466 - val_accuracy: 0.6285 - 734s/epoch - 2s/step\n",
      "Epoch 24/50\n",
      "448/448 - 751s - loss: 0.9751 - accuracy: 0.6706 - val_loss: 1.0991 - val_accuracy: 0.6278 - 751s/epoch - 2s/step\n",
      "Epoch 25/50\n",
      "448/448 - 736s - loss: 0.9505 - accuracy: 0.6824 - val_loss: 1.0945 - val_accuracy: 0.6366 - 736s/epoch - 2s/step\n",
      "Epoch 26/50\n",
      "448/448 - 747s - loss: 0.9207 - accuracy: 0.6917 - val_loss: 1.0903 - val_accuracy: 0.6374 - 747s/epoch - 2s/step\n",
      "Epoch 27/50\n",
      "448/448 - 736s - loss: 0.9047 - accuracy: 0.6986 - val_loss: 1.1197 - val_accuracy: 0.6311 - 736s/epoch - 2s/step\n",
      "Epoch 28/50\n",
      "448/448 - 742s - loss: 0.8887 - accuracy: 0.7071 - val_loss: 1.1490 - val_accuracy: 0.6355 - 742s/epoch - 2s/step\n",
      "Epoch 29/50\n",
      "448/448 - 609s - loss: 0.8728 - accuracy: 0.7123 - val_loss: 1.1406 - val_accuracy: 0.6385 - 609s/epoch - 1s/step\n",
      "Epoch 30/50\n",
      "448/448 - 534s - loss: 0.8502 - accuracy: 0.7187 - val_loss: 1.1280 - val_accuracy: 0.6416 - 534s/epoch - 1s/step\n",
      "Epoch 31/50\n",
      "448/448 - 550s - loss: 0.8340 - accuracy: 0.7268 - val_loss: 1.1216 - val_accuracy: 0.6390 - 550s/epoch - 1s/step\n",
      "Epoch 00031: early stopping\n"
     ]
    }
   ],
   "source": [
    "steps_per_epoch = train_set.n // train_set.batch_size\n",
    "validation_steps = test_set.n // test_set.batch_size\n",
    "\n",
    "callback_early_stopping = EarlyStopping(monitor='val_loss', patience=5, verbose = 1, mode= \"auto\")\n",
    "\n",
    "#This callback makes it so that the best weights will be saved\n",
    "callback_model_checkpoint = ModelCheckpoint(\"best_model_weights.hdf5\", save_best_only=True,\n",
    "                                                               monitor='val_loss', mode = \"min\")\n",
    "\n",
    "batch_size = 64 \n",
    "epochs = 50\n",
    "\n",
    "history = our_model.fit(\n",
    "    x=train_set,\n",
    "    validation_data=test_set,\n",
    "    epochs=epochs,\n",
    "    batch_size = batch_size,\n",
    "    steps_per_epoch=steps_per_epoch,\n",
    "    validation_steps=validation_steps,\n",
    "    verbose=2, callbacks = [callback_early_stopping, callback_model_checkpoint])\n"
   ]
  },
  {
   "cell_type": "markdown",
   "id": "62062597",
   "metadata": {},
   "source": [
    "mod = our_model.fit(x=train_set,\n",
    "                 validation_data=test_set,\n",
    "                 epochs=10,\n",
    "                 steps_per_epoch=steps_per_epoch,\n",
    "                 validation_steps=validation_steps)"
   ]
  },
  {
   "cell_type": "code",
   "execution_count": 28,
   "id": "83c7c215",
   "metadata": {},
   "outputs": [],
   "source": [
    "from sklearn.metrics import classification_report, confusion_matrix"
   ]
  },
  {
   "cell_type": "code",
   "execution_count": 24,
   "id": "4a473065",
   "metadata": {},
   "outputs": [],
   "source": [
    "\n",
    "#procedure to save our model\n",
    "filename=\"our_model.h5\"\n",
    "our_model.save(filename)"
   ]
  },
  {
   "cell_type": "code",
   "execution_count": 25,
   "id": "fbb9a876",
   "metadata": {},
   "outputs": [],
   "source": [
    "from tensorflow.keras.models import load_model"
   ]
  },
  {
   "cell_type": "code",
   "execution_count": 27,
   "id": "b01e82a8",
   "metadata": {},
   "outputs": [],
   "source": [
    "#loading back the model\n",
    "a=load_model(filename)"
   ]
  },
  {
   "cell_type": "code",
   "execution_count": 32,
   "id": "bb12dd40",
   "metadata": {},
   "outputs": [
    {
     "data": {
      "image/png": "[encoded data removed]",
      "text/plain": [
       "<Figure size 1008x360 with 2 Axes>"
      ]
     },
     "metadata": {
      "needs_background": "light"
     },
     "output_type": "display_data"
    }
   ],
   "source": [
    "plt.figure(figsize=(14,5))\n",
    "plt.subplot(1,2,2)\n",
    "plt.plot(history.history['accuracy'])\n",
    "plt.plot(history.history['val_accuracy'])\n",
    "plt.title('Model Accuracy')\n",
    "plt.xlabel('Epochs')\n",
    "plt.ylabel('Accuracy')\n",
    "plt.legend(['train', 'test'], loc='upper left')\n",
    "\n",
    "plt.subplot(1,2,1)\n",
    "plt.plot(history.history['loss'])\n",
    "plt.plot(history.history['val_loss'])\n",
    "plt.title('model Loss')\n",
    "plt.xlabel('Epochs')\n",
    "plt.ylabel('Loss')\n",
    "plt.legend(['train', 'test'], loc='upper left')\n",
    "plt.show()"
   ]
  },
  {
   "cell_type": "code",
   "execution_count": 33,
   "id": "ddddb17f",
   "metadata": {},
   "outputs": [
    {
     "name": "stdout",
     "output_type": "stream",
     "text": [
      "449/449 [==============================] - 87s 194ms/step - loss: 0.6871 - accuracy: 0.8010\n",
      "113/113 [==============================] - 24s 209ms/step - loss: 1.1215 - accuracy: 0.6388\n",
      "final train accuracy = 80.10 , validation accuracy = 63.88\n"
     ]
    }
   ],
   "source": [
    "train_loss, train_accu = our_model.evaluate(train_set)\n",
    "test_loss, test_accu = our_model.evaluate(test_set)\n",
    "print(\"final train accuracy = {:.2f} , validation accuracy = {:.2f}\".format(train_accu*100, test_accu*100))"
   ]
  },
  {
   "cell_type": "code",
   "execution_count": 35,
   "id": "71ae6a5f",
   "metadata": {},
   "outputs": [
    {
     "name": "stdout",
     "output_type": "stream",
     "text": [
      "Confusion Matrix\n",
      "[[148  12  77 257 173 179 112]\n",
      " [ 20   0  10  35  19  14  13]\n",
      " [156   9 107 259 206 170 117]\n",
      " [284  18 201 427 353 311 180]\n",
      " [180  12 129 300 258 223 131]\n",
      " [177  12 148 305 269 214 122]\n",
      " [114   7 107 237 143 151  72]]\n",
      "Classification Report\n",
      "              precision    recall  f1-score   support\n",
      "\n",
      "       angry       0.14      0.15      0.15       958\n",
      "     disgust       0.00      0.00      0.00       111\n",
      "        fear       0.14      0.10      0.12      1024\n",
      "       happy       0.23      0.24      0.24      1774\n",
      "     neutral       0.18      0.21      0.19      1233\n",
      "         sad       0.17      0.17      0.17      1247\n",
      "    surprise       0.10      0.09      0.09       831\n",
      "\n",
      "    accuracy                           0.17      7178\n",
      "   macro avg       0.14      0.14      0.14      7178\n",
      "weighted avg       0.17      0.17      0.17      7178\n",
      "\n"
     ]
    },
    {
     "data": {
      "image/png": "[encoded data removed]",
      "text/plain": [
       "<Figure size 576x576 with 2 Axes>"
      ]
     },
     "metadata": {
      "needs_background": "light"
     },
     "output_type": "display_data"
    }
   ],
   "source": [
    "y_pred = our_model.predict(test_set)\n",
    "y_pred = np.argmax(y_pred, axis=1)\n",
    "class_labels = test_set.class_indices\n",
    "class_labels = {v:k for k,v in class_labels.items()}\n",
    "\n",
    "#from sklearn.metrics import classification_report, confusion_matrix\n",
    "cm_test = confusion_matrix(test_set.classes, y_pred)\n",
    "print('Confusion Matrix')\n",
    "print(cm_test)\n",
    "print('Classification Report')\n",
    "target_names = list(class_labels.values())\n",
    "print(classification_report(test_set.classes, y_pred, target_names=target_names))\n",
    "\n",
    "plt.figure(figsize=(8,8))\n",
    "plt.imshow(cm_test, interpolation='nearest')\n",
    "plt.colorbar()\n",
    "tick_mark = np.arange(len(target_names))\n",
    "_ = plt.xticks(tick_mark, target_names, rotation=90)\n",
    "_ = plt.yticks(tick_mark, target_names)"
   ]
  },
  {
   "cell_type": "markdown",
   "id": "7c080af9",
   "metadata": {},
   "source": [
    "#### Using this differnt emotions of music could be played based on the mood of the person"
   ]
  }
 ],
 "metadata": {
  "kernelspec": {
   "display_name": "Python 3 (ipykernel)",
   "language": "python",
   "name": "python3"
  },
  "language_info": {
   "codemirror_mode": {
    "name": "ipython",
    "version": 3
   },
   "file_extension": ".py",
   "mimetype": "text/x-python",
   "name": "python",
   "nbconvert_exporter": "python",
   "pygments_lexer": "ipython3",
   "version": "3.8.8"
  }
 },
 "nbformat": 4,
 "nbformat_minor": 5
}
